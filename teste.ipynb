{
  "nbformat": 4,
  "nbformat_minor": 0,
  "metadata": {
    "colab": {
      "provenance": [],
      "toc_visible": true,
      "authorship_tag": "ABX9TyNFxDehQeW6JeyeLv3SqUVx",
      "include_colab_link": true
    },
    "kernelspec": {
      "name": "python3",
      "display_name": "Python 3"
    },
    "language_info": {
      "name": "python"
    }
  },
  "cells": [
    {
      "cell_type": "markdown",
      "metadata": {
        "id": "view-in-github",
        "colab_type": "text"
      },
      "source": [
        "<a href=\"https://colab.research.google.com/github/schaurert/faculdade/blob/main/teste.ipynb\" target=\"_parent\"><img src=\"https://colab.research.google.com/assets/colab-badge.svg\" alt=\"Open In Colab\"/></a>"
      ]
    },
    {
      "cell_type": "code",
      "execution_count": null,
      "metadata": {
        "id": "SHVL-Ok4n9HE"
      },
      "outputs": [],
      "source": [
        "ola = \"oi\""
      ]
    },
    {
      "cell_type": "code",
      "source": [
        "print (\"A\")\n",
        "print (\"A\", \"B\")\n",
        "print (\"A\", \"B\", \"C\")"
      ],
      "metadata": {
        "colab": {
          "base_uri": "https://localhost:8080/"
        },
        "id": "982X4fKlo9dc",
        "outputId": "7abf93d9-8c2a-4ec8-b332-3752c3bdf248"
      },
      "execution_count": 6,
      "outputs": [
        {
          "output_type": "stream",
          "name": "stdout",
          "text": [
            "A\n",
            "A B\n",
            "A B C\n"
          ]
        }
      ]
    },
    {
      "cell_type": "code",
      "source": [
        "numero1 = float(input(\"digite o primeiro número: \"))\n",
        "numero2 = float(input(\"digite o segundo número: \"))\n",
        "\n",
        "media = (numero1 + numero2) / 2\n",
        "\n",
        "print(f\"a media dos numeros é: {media}\")"
      ],
      "metadata": {
        "colab": {
          "base_uri": "https://localhost:8080/"
        },
        "collapsed": true,
        "id": "BmFEsrSqq3io",
        "outputId": "34c28ddb-1aee-4ebd-b668-241d36c6614e"
      },
      "execution_count": 14,
      "outputs": [
        {
          "output_type": "stream",
          "name": "stdout",
          "text": [
            "digite o primeiro número: 4\n",
            "digite o segundo número: 4\n",
            "a media dos numeros é: 4.0\n"
          ]
        }
      ]
    },
    {
      "cell_type": "code",
      "source": [
        "n = int(input(\"digite o numero que queira verificar se é par: \"))\n",
        "\n",
        "#verificação\n",
        "if n % 2 == 0:\n",
        "  print(f\"o número {n} é par\")\n",
        "else:\n",
        "  print(f\"o número {n} é ímpar\")\n"
      ],
      "metadata": {
        "colab": {
          "base_uri": "https://localhost:8080/"
        },
        "id": "oBPz9taqsOUC",
        "outputId": "0cf029ec-b9b1-4099-f4c4-a9ba98d6423b"
      },
      "execution_count": 18,
      "outputs": [
        {
          "output_type": "stream",
          "name": "stdout",
          "text": [
            "digite o numero que queira verificar se é par: 699599779567\n",
            "o número 699599779567 é ímpar\n"
          ]
        }
      ]
    }
  ]
}